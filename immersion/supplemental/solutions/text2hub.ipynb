{
 "cells": [
  {
   "cell_type": "markdown",
   "metadata": {},
   "source": [
    "# Custom TF-Hub Word Embedding with text2hub\n",
    "\n",
    "**Learning Objectives:**\n",
    "  1. Learn how to deploy AI Hub Kubeflow pipeline\n",
    "  1. Learn how to configure the run parameters for text2hub\n",
    "  1. Learn how to inspect text2hub generated artifacts and word embeddings in TensorBoard\n",
    "  1. Learn how to run TF 1.x generated hub module in TF 2.0\n",
    "\n",
    "\n",
    "## Introduction\n",
    "\n",
    "\n",
    "Pre-trained text embeddings such as TF-Hub modules are a great tool for building machine learning models for text features, since they capture relationships between words. These embeddings are generally trained on vast but generic text corpora like Wikipedia or Google News, which means that they are usually very good at representing generic text, but not so much when the text comes from a very specialized domain with unique vocabulary, such as in the medical field.\n",
    "\n",
    "\n",
    "One problem in particular that arises when applying a TF-Hub text module which was pre-trained on a generic corpus to specialized text is that all of the unique, domain-specific words will be mapped to the same “out-of-vocabulary” (OOV) vector. By doing so we lose a very valuable part of the text information, because for specialized texts the most informative words are often the words that are very specific to that special domain. Another issue is that of commonly misspelled words from text gathered from say, customer feedback. Applying a generic pre-trained embedding will send the misspelled word to the OOV vectors, losing precious information. However, by creating a TF-Hub module tailored to the texts coming from that customer feedback means that common misspellings present in your real customer data will be part of the embedding vocabulary and should be close by closeby to the original word in the embedding space.\n",
    "\n",
    "\n",
    "In this notebook, we will learn how to generate a text TF-hub module specific to a particular domain using the text2hub Kubeflow pipeline available on Google AI Hub. This pipeline takes as input a corpus of text stored in a GCS bucket and outputs a TF-Hub module to a GCS bucket. The generated TF-Hub module can then be reused both in TF 1.x or in TF 2.0 code by referencing the output GCS bucket path when loading the module. \n",
    "\n",
    "Our first order of business will be to learn how to deploy a Kubeflow pipeline, namely text2hub, stored in AI Hub to a Kubeflow cluster. Then we will dig into the pipeline run parameter configuration and review the artifacts produced by the pipeline during its run. These artifacts are meant to help you assess how good the domain specific TF-hub module you generated is. In particular, we will  explore the embedding space visually using TensorBoard projector, which provides a tool to list the nearest neighbors to a given word in the embedding space.\n",
    "\n",
    "\n",
    "At last, we will explain how to run the generated module both in TF 1.x and TF 2.0. Running the module in TF 2.0 will necessite a small trick that’s useful to know in itself because it allows you to use all the TF 1.x modules in TF hub in TF 2.0 as a Keras layer. \n",
    "\n"
   ]
  },
  {
   "cell_type": "code",
   "execution_count": 1,
   "metadata": {},
   "outputs": [
    {
     "name": "stdout",
     "output_type": "stream",
     "text": [
      "tensorflow-hub==0.7.0\n"
     ]
    }
   ],
   "source": [
    "!pip freeze | grep tensorflow-hub==0.7.0 || pip install tensorflow-hub==0.7.0"
   ]
  },
  {
   "cell_type": "code",
   "execution_count": 2,
   "metadata": {},
   "outputs": [],
   "source": [
    "import os\n",
    "\n",
    "import tensorflow as tf\n",
    "import tensorflow_hub as hub"
   ]
  },
  {
   "cell_type": "markdown",
   "metadata": {},
   "source": [
    "Replace by your GCP project and bucket:"
   ]
  },
  {
   "cell_type": "code",
   "execution_count": 10,
   "metadata": {},
   "outputs": [],
   "source": [
    "PROJECT = \"qwiklabs-gcp-03-2974874276fb\" # REPLACE WITH YOUR PROJECT NAME\n",
    "BUCKET = \"qwiklabs-gcp-03-2974874276fb\" # REPLACE WITH YOUR BUCKET NAME\n",
    "\n",
    "os.environ[\"PROJECT\"] = PROJECT\n",
    "os.environ[\"BUCKET\"] = BUCKET"
   ]
  },
  {
   "cell_type": "code",
   "execution_count": 7,
   "metadata": {},
   "outputs": [
    {
     "name": "stdout",
     "output_type": "stream",
     "text": [
      "gs://artifacts.qwiklabs-gcp-03-2974874276fb.appspot.com/\n",
      "gs://qwiklabs-gcp-03-2974874276fb/\n",
      "gs://qwiklabs-gcp-03-2974874276fb-kubeflowpipelines-default/\n",
      "gs://qwiklabs-gcp-03-2974874276fb_cloudbuild/\n"
     ]
    }
   ],
   "source": [
    "!gsutil ls"
   ]
  },
  {
   "cell_type": "code",
   "execution_count": 5,
   "metadata": {},
   "outputs": [
    {
     "name": "stdout",
     "output_type": "stream",
     "text": [
      "Creating gs://qwiklabs-gcp-03-2974874276fb/...\n"
     ]
    }
   ],
   "source": [
    "!gsutil mb gs://qwiklabs-gcp-03-2974874276fb"
   ]
  },
  {
   "cell_type": "markdown",
   "metadata": {},
   "source": [
    "## Loading the dataset in GCS"
   ]
  },
  {
   "cell_type": "markdown",
   "metadata": {},
   "source": [
    "The corpus we chose is one of [Project Gutenberg medical texts](http://www.gutenberg.org/ebooks/bookshelf/48): [A Manual of the Operations of Surgery](http://www.gutenberg.org/ebooks/24564) by Joseph Bell, containing very specialized language. \n",
    "\n",
    "The first thing to do is to upload the text into a GCS bucket:"
   ]
  },
  {
   "cell_type": "code",
   "execution_count": 11,
   "metadata": {},
   "outputs": [
    {
     "name": "stderr",
     "output_type": "stream",
     "text": [
      "  % Total    % Received % Xferd  Average Speed   Time    Time     Time  Current\n",
      "                                 Dload  Upload   Total   Spent    Left  Speed\n",
      "100  608k  100  608k    0     0  1738k      0 --:--:-- --:--:-- --:--:-- 1738k\n",
      "Copying file://surgery_manual.txt [Content-Type=text/plain]...\n",
      "/ [1 files][608.3 KiB/608.3 KiB]                                                \n",
      "Operation completed over 1 objects/608.3 KiB.                                    \n"
     ]
    }
   ],
   "source": [
    "%%bash\n",
    "\n",
    "URL=http://www.gutenberg.org/cache/epub/24564/pg24564.txt\n",
    "OUTDIR=gs://$BUCKET/custom_embedding\n",
    "CORPUS=surgery_manual.txt\n",
    "\n",
    "curl $URL > $CORPUS\n",
    "gsutil cp $CORPUS $OUTDIR/$CORPUS"
   ]
  },
  {
   "cell_type": "markdown",
   "metadata": {},
   "source": [
    "It has very specialized language such as \n",
    "\n",
    "```\n",
    "On the surface of the abdomen the position of this vessel would be \n",
    "indicated by a line drawn from about an inch on either side of the \n",
    "umbilicus to the middle of the space between the symphysis pubis \n",
    "and the crest of the ilium.\n",
    "```\n",
    "\n",
    "Now let's go over the steps involved in creating your own embedding from that corpus."
   ]
  },
  {
   "cell_type": "markdown",
   "metadata": {},
   "source": [
    "## Step 1: Download the `text2hub` pipeline from AI Hub (TODO 1)"
   ]
  },
  {
   "cell_type": "markdown",
   "metadata": {},
   "source": [
    "Go on [AI Hub](https://aihub.cloud.google.com/u/0/) and search for the `text2hub` pipeline, or just follow [this link](https://aihub.cloud.google.com/u/0/p/products%2F4a91d2d0-1fb8-4e79-adf7-a35707071195).\n",
    "You'll land onto a page describing `text2hub`. Click on the \"Download\" button on that page to download the Kubeflow pipeline and click `Accept`."
   ]
  },
  {
   "cell_type": "markdown",
   "metadata": {},
   "source": [
    "![img](./assets/text2hub_download.png)"
   ]
  },
  {
   "cell_type": "markdown",
   "metadata": {},
   "source": [
    "The text2hub pipeline is a KubeFlow pipeline that comprises three components; namely:\n",
    "\n",
    "\n",
    "* The **text2cooc** component that computes a word co-occurrence matrix\n",
    "from a corpus of text\n",
    "\n",
    "* The **cooc2emb** component that factorizes the\n",
    "co-occurrence matrix using [Swivel](https://arxiv.org/pdf/1602.02215.pdf) into\n",
    "the word embeddings exported as a tsv file\n",
    "\n",
    "* The **emb2hub** component that takes the word\n",
    "embedding file and generates a TF Hub module from it\n",
    "\n",
    "\n",
    "Each component is implemented as a Docker container image that's stored into Google Cloud Docker registry, [gcr.io](https://cloud.google.com/container-registry/). The `pipeline.tar.gz` file that you downloaded is a yaml description of how these containers need to be composed as well as where to find the corresponding images. \n",
    "\n",
    "**Remark:** Each component can be run individually as a single component pipeline in exactly the same manner as the `text2hub` pipeline. On AI Hub, each component has a pipeline page describing it and from where you can download the associated single component pipeline:\n",
    "\n",
    " * [text2cooc](https://aihub.cloud.google.com/u/0/p/products%2F6d998d56-741e-4154-8400-0b3103f2a9bc)\n",
    " * [cooc2emb](https://aihub.cloud.google.com/u/0/p/products%2Fda367ed9-3d70-4ca6-ad14-fd6bf4a913d9)\n",
    " * [emb2hub](https://aihub.cloud.google.com/u/0/p/products%2F1ef7e52c-5da5-437b-a061-31111ab55312)"
   ]
  },
  {
   "cell_type": "markdown",
   "metadata": {},
   "source": [
    "## Step 2: Upload the pipeline to the Kubeflow cluster (TODO 1)"
   ]
  },
  {
   "cell_type": "markdown",
   "metadata": {},
   "source": [
    "Go to your [Kubeflow cluster dashboard](https://console.cloud.google.com/ai-platform/pipelines/clusters) or navigate to `Navigation menu > AI Platform > Pipelines` and click `Open Pipelines Dashboard` then click on the `Pipelines` tab to create a new pipeline. You'll be prompted to upload the pipeline file you have just downloaded, click `Upload Pipeline`. Rename the generated pipeline name to be `text2hub` to keep things nice and clean."
   ]
  },
  {
   "cell_type": "markdown",
   "metadata": {},
   "source": [
    "![img](./assets/text2hub_upload1.png)"
   ]
  },
  {
   "cell_type": "markdown",
   "metadata": {},
   "source": [
    "### Setting up Kubernetes secret for your cluster\n",
    "\n",
    "If you run pipelines that requires calling any GCP services, you need to set the application default credential to a pipeline step by mounting the proper GCP service account token as a Kubernetes secret.\n",
    "\n",
    "First point your kubectl current context to your cluster. Go back to your [Kubeflow cluster dashboard](https://console.cloud.google.com/ai-platform/pipelines/clusters) or navigate to `Navigation menu > AI Platform > Pipelines` and look to see the cluster name, zone and namespace for the pipeline you deployed above. It's likely called `cluster-1` if this is the first AI Pipelines you've created. "
   ]
  },
  {
   "cell_type": "code",
   "execution_count": 14,
   "metadata": {},
   "outputs": [],
   "source": [
    "# Check the name, zone and namespace of your cluster\n",
    "CLUSTER = \"cluster-1\"\n",
    "ZONE = \"us-central1-a\"\n",
    "NAMESPACE = \"default\"\n",
    "\n",
    "os.environ['CLUSTER'] = CLUSTER\n",
    "os.environ['ZONE'] = ZONE\n",
    "os.environ['NAMESPACE'] = NAMESPACE"
   ]
  },
  {
   "cell_type": "code",
   "execution_count": 15,
   "metadata": {},
   "outputs": [
    {
     "name": "stdout",
     "output_type": "stream",
     "text": [
      "Fetching cluster endpoint and auth data.\n",
      "kubeconfig entry generated for cluster-1.\n"
     ]
    }
   ],
   "source": [
    "# Configure kubectl to connect with the cluster\n",
    "!gcloud container clusters get-credentials \"$CLUSTER\" --zone \"$ZONE\" --project \"$PROJECT\""
   ]
  },
  {
   "cell_type": "markdown",
   "metadata": {},
   "source": [
    "We'll create a service account called `text2hub-kfpdemo` with the necessary IAM permissions for our cluster secret. We'll give this service account permissions for any GCP services it might need. This `text2hub` pipeline needs access to Cloud Storage, so we'll give it the `storage.admin` role. Open a Cloud Shell and copy/paste this code in the terminal there. Be sure to replace your PROJECT id in the code below.\n",
    "\n",
    "```bash\n",
    "PROJECT_ID=<your-gcp-project-here>\n",
    "\n",
    "# Create service account\n",
    "gcloud iam service-accounts create text2hub-kfpdemo \\\n",
    "  --display-name text2hub-kfpdemo --project $PROJECT_ID\n",
    "\n",
    "# Grant permissions to the service account by binding roles\n",
    "gcloud projects add-iam-policy-binding $PROJECT_ID \\\n",
    "    --member=serviceAccount:text2hub-kfpdemo@$PROJECT_ID.iam.gserviceaccount.com \\\n",
    "    --role=roles/storage.admin\n",
    "```"
   ]
  },
  {
   "cell_type": "markdown",
   "metadata": {},
   "source": [
    "Then, we'll create and download a key for this service account and store the service account credential as a Kubernetes secret called `user-gcp-sa` in the cluster."
   ]
  },
  {
   "cell_type": "code",
   "execution_count": 16,
   "metadata": {},
   "outputs": [
    {
     "name": "stderr",
     "output_type": "stream",
     "text": [
      "created key [5a2e0786c2e713be5ae78db3d7317c87db90054e] of type [json] as [application_default_credentials.json] for [text2hub-kfpdemo@qwiklabs-gcp-03-2974874276fb.iam.gserviceaccount.com]\n"
     ]
    }
   ],
   "source": [
    "%%bash\n",
    "gcloud iam service-accounts keys create application_default_credentials.json \\\n",
    "--iam-account text2hub-kfpdemo@$PROJECT.iam.gserviceaccount.com"
   ]
  },
  {
   "cell_type": "code",
   "execution_count": 17,
   "metadata": {},
   "outputs": [
    {
     "name": "stdout",
     "output_type": "stream",
     "text": [
      "application_default_credentials.json\n"
     ]
    }
   ],
   "source": [
    "#Check that the key was downloaded correctly.\n",
    "!ls application_default_credentials.json"
   ]
  },
  {
   "cell_type": "code",
   "execution_count": 18,
   "metadata": {},
   "outputs": [
    {
     "name": "stdout",
     "output_type": "stream",
     "text": [
      "W0427 17:14:50.335005    3972 helpers.go:557] --dry-run is deprecated and can be replaced with --dry-run=client.\n",
      "secret/user-gcp-sa created\n"
     ]
    }
   ],
   "source": [
    "# Create a k8s secret. If already exists, override.\n",
    "!kubectl create secret generic user-gcp-sa \\\n",
    "  --from-file=user-gcp-sa.json=application_default_credentials.json \\\n",
    "  -n $NAMESPACE --dry-run -o yaml  |  kubectl apply -f -"
   ]
  },
  {
   "cell_type": "markdown",
   "metadata": {},
   "source": [
    "## Step 3: Create a pipeline run (TODO 1)"
   ]
  },
  {
   "cell_type": "markdown",
   "metadata": {},
   "source": [
    "After uploading the pipeline, you should see `text2hub` appear on the pipeline list. Click on it. This will bring you to a page describing the pipeline (explore!) and allowing you to create a run. You can inspect the input and output parameters of each of the pipeline components by clicking on the component node in the graph representing the pipeline. Click `Create Run`."
   ]
  },
  {
   "cell_type": "markdown",
   "metadata": {},
   "source": [
    "![img](./assets/text2hub_run_creation.png)"
   ]
  },
  {
   "cell_type": "markdown",
   "metadata": {},
   "source": [
    "## Step 4: Enter the run parameters (TODO 2)"
   ]
  },
  {
   "cell_type": "markdown",
   "metadata": {},
   "source": [
    "`text2hub` has the following run parameters you can configure:\n",
    "\n",
    "Argument                                         | Description                                                                           | Optional | Data Type | Accepted values | Default\n",
    "------------------------------------------------ | ------------------------------------------------------------------------------------- | -------- | --------- | --------------- | -------\n",
    "gcs-path-to-the-text-corpus                      | A Cloud Storage location pattern (i.e., glob) where the text corpus will be read from | False    | String    | gs://...        | -\n",
    "gcs-directory-path-for-pipeline-output           | A Cloud Storage directory path where the pipeline output will be exported             | False    | String    | gs://...        | -\n",
    "number-of-epochs                                 | Number of epochs to train the embedding algorithm (Swivel) on                         | True     | Integer   | -               | 40\n",
    "embedding-dimension                              | Number of components of the generated embedding vectors                               | True     | Integer   | -               | 128\n",
    "co-occurrence-word-window-size                   | Size of the sliding word window where co-occurrences are extracted from               | True     | Integer   | -               | 10\n",
    "number-of-out-of-vocabulary-buckets              | Number of out-of-vocabulary buckets                                                   | True     | Integer   | -               | 1\n",
    "minimum-occurrences-for-a-token-to-be-considered | Minimum number of occurrences for a token to be included in the vocabulary            | True     | Integer   | -               | 5"
   ]
  },
  {
   "cell_type": "markdown",
   "metadata": {},
   "source": [
    "You can leave most parameters with their default values except for\n",
    "`gcs-path-to-the-test-corpus` whose value should be set to"
   ]
  },
  {
   "cell_type": "code",
   "execution_count": 12,
   "metadata": {},
   "outputs": [
    {
     "name": "stdout",
     "output_type": "stream",
     "text": [
      "gs://qwiklabs-gcp-03-2974874276fb/custom_embedding/surgery_manual.txt\n"
     ]
    }
   ],
   "source": [
    "!echo gs://$BUCKET/custom_embedding/surgery_manual.txt"
   ]
  },
  {
   "cell_type": "markdown",
   "metadata": {},
   "source": [
    "and for `gcs-directory-path-for-pipeline-output` which we will set to"
   ]
  },
  {
   "cell_type": "code",
   "execution_count": 13,
   "metadata": {},
   "outputs": [
    {
     "name": "stdout",
     "output_type": "stream",
     "text": [
      "gs://qwiklabs-gcp-03-2974874276fb/custom_embedding\n"
     ]
    }
   ],
   "source": [
    "!echo gs://$BUCKET/custom_embedding"
   ]
  },
  {
   "cell_type": "markdown",
   "metadata": {},
   "source": [
    "**Remark**: `gcs-path-to-the-test-corpus` will accept a GCS pattern like `gs://BUCKET/data/*.txt` or simply a path like `gs://BUCKET/data/` to a GCS directory. All the files that match the pattern or that are in that directory will be parsed to create the word embedding TF-Hub module. "
   ]
  },
  {
   "cell_type": "markdown",
   "metadata": {},
   "source": [
    "![img](./assets/text2hub_run_parameters1.png)"
   ]
  },
  {
   "cell_type": "markdown",
   "metadata": {},
   "source": [
    "Make sure to choose experiment `default`. Once these values have been set, you can start the run by clicking on `Start`."
   ]
  },
  {
   "cell_type": "markdown",
   "metadata": {},
   "source": [
    "## Step 5: Inspect the run artifacts (TODO 3)"
   ]
  },
  {
   "cell_type": "markdown",
   "metadata": {},
   "source": [
    "Once the run has started you can see its state by going to the `Experiments` tab and clicking on the name of the run (here \"text2hub-1\"). "
   ]
  },
  {
   "cell_type": "markdown",
   "metadata": {},
   "source": [
    "![img](assets/text2hub_experiment_list1.png)"
   ]
  },
  {
   "cell_type": "markdown",
   "metadata": {},
   "source": [
    "It will show you the pipeline graph. The components in green have successfuly completed. You can then click on them and look at the artifacts that these components have produced.\n",
    "\n",
    "The `text2cooc` components has \"co-occurrence extraction summary\" showing you the GCS path where the co-occurrence data has been saved. Their is a corresponding link that you can paste into your browser to inspect the co-occurrence data from the GCS browser. Some statistics about the vocabulary are given to you such as the most and least frequent tokens. You can also download the vocabulary file containing the token to be embedded. "
   ]
  },
  {
   "cell_type": "markdown",
   "metadata": {},
   "source": [
    "![img](assets/text2cooc_markdown_artifacts.png)"
   ]
  },
  {
   "cell_type": "markdown",
   "metadata": {},
   "source": [
    "The `cooc2emb` has three artifacts\n",
    "* An \"Embedding Extraction Summary\" providing the information as where the model chekpoints and the embedding tables are exported to on GCP\n",
    "* A similarity matrix from a random sample of words giving you an indication whether the model associates close-by vectors to similar words\n",
    "* An button to start TensorBoard from the UI to inspect the model and visualize the word embeddings"
   ]
  },
  {
   "cell_type": "markdown",
   "metadata": {},
   "source": [
    "![img](assets/cooc2emb_artifacts.png)"
   ]
  },
  {
   "cell_type": "markdown",
   "metadata": {},
   "source": [
    "We can have a look at the word embedding visualization provided by TensorBoard. Select the TF version: `TensorFlow 1.14.0`. Start TensorBoard by clicking on `Start Tensorboard` and then `Open Tensorboard` buttons, and then select \"Projector\".\n",
    "\n",
    "**Remark:** The projector tab may take some time to appear. If it takes too long it may be that your Kubeflow cluster is running an incompatible version of TensorBoard (your TB version should be between 1.13 and 1.15). If that's the case, just run Tensorboard from CloudShell or locally by issuing the following command."
   ]
  },
  {
   "cell_type": "code",
   "execution_count": 22,
   "metadata": {},
   "outputs": [
    {
     "name": "stdout",
     "output_type": "stream",
     "text": [
      "tensorboard --port 8080 --logdir gs://qwiklabs-gcp-03-2974874276fb/custom_embedding/embeddings\n"
     ]
    }
   ],
   "source": [
    "!echo tensorboard --port 8080 --logdir gs://$BUCKET/custom_embedding/embeddings"
   ]
  },
  {
   "cell_type": "markdown",
   "metadata": {},
   "source": [
    "The projector view will present you with a representation of the word vectors in a 3 dimensional space (the dim is reduced through PCA) that you can interact with. Enter in the search tool a few words like \"ilium\" and points in the 3D space will light up. "
   ]
  },
  {
   "cell_type": "markdown",
   "metadata": {},
   "source": [
    "![img](assets/cooc2emb_tb_search.png)"
   ]
  },
  {
   "cell_type": "markdown",
   "metadata": {},
   "source": [
    "If you click on a word vector, you'll see appear the n nearest neighbors of that word in the embedding space. The nearset neighbors are both visualized in the center panel and presented as a flat list on the right. \n",
    "\n",
    "Explore the nearest neighbors of a given word and see if they kind of make sense. This will give you a rough understanding of the embedding quality. If it nearest neighbors do not make sense after trying for a few key words, you may need rerun `text2hub`, but this time with either more epochs or more data. Reducing the embedding dimension may help as well as modifying the co-occurence window size (choose a size that make sense given how your corpus is split into lines.)\n"
   ]
  },
  {
   "cell_type": "markdown",
   "metadata": {},
   "source": [
    "![img](assets/cooc2emb_nn.png)"
   ]
  },
  {
   "cell_type": "markdown",
   "metadata": {},
   "source": [
    "The `emb2hub` artifacts give you a snippet of TensorFlow 1.x code showing you how to re-use the generated TF-Hub module in your code. We will demonstrate how to use the TF-Hub module in TF 2.0 in the next section."
   ]
  },
  {
   "cell_type": "markdown",
   "metadata": {},
   "source": [
    "![img](assets/emb2hub_artifacts.png)"
   ]
  },
  {
   "cell_type": "markdown",
   "metadata": {},
   "source": [
    "# Step 7: Using the generated TF-Hub module (TODO)"
   ]
  },
  {
   "cell_type": "markdown",
   "metadata": {},
   "source": [
    "Let's see now how to load the TF-Hub module generated by `text2hub` in TF 2.0.\n",
    "\n",
    "We first store the GCS bucket path where the TF-Hub module has been exported into a variable:"
   ]
  },
  {
   "cell_type": "code",
   "execution_count": 19,
   "metadata": {},
   "outputs": [
    {
     "data": {
      "text/plain": [
       "'gs://qwiklabs-gcp-03-2974874276fb/custom_embedding/hub-module'"
      ]
     },
     "execution_count": 19,
     "metadata": {},
     "output_type": "execute_result"
    }
   ],
   "source": [
    "MODULE = \"gs://{bucket}/custom_embedding/hub-module\".format(bucket=BUCKET)\n",
    "MODULE"
   ]
  },
  {
   "cell_type": "markdown",
   "metadata": {},
   "source": [
    "Now we are ready to create a `KerasLayer` out of our custom text embedding."
   ]
  },
  {
   "cell_type": "code",
   "execution_count": 20,
   "metadata": {},
   "outputs": [
    {
     "name": "stdout",
     "output_type": "stream",
     "text": [
      "WARNING:tensorflow:From /opt/conda/lib/python3.7/site-packages/tensorflow_core/python/ops/resource_variable_ops.py:1786: calling BaseResourceVariable.__init__ (from tensorflow.python.ops.resource_variable_ops) with constraint is deprecated and will be removed in a future version.\n",
      "Instructions for updating:\n",
      "If using Keras pass *_constraint arguments to layers.\n"
     ]
    }
   ],
   "source": [
    "med_embed = hub.KerasLayer(MODULE)"
   ]
  },
  {
   "cell_type": "markdown",
   "metadata": {},
   "source": [
    "That layer when called with a list of sentences will create a sentence vector for each sentence by averaging the word vectors of the sentence."
   ]
  },
  {
   "cell_type": "code",
   "execution_count": 21,
   "metadata": {},
   "outputs": [
    {
     "data": {
      "text/plain": [
       "<tf.Tensor: shape=(3, 128), dtype=float32, numpy=\n",
       "array([[ 0.08939678, -0.31731832, -0.353129  , -0.04701713, -0.02836972,\n",
       "        -0.03842818, -0.02104402, -0.53546464, -0.740231  , -0.27567202,\n",
       "         0.06018296,  0.35834083, -0.15388855, -0.36670935,  0.6842835 ,\n",
       "         0.19274239, -0.00820598, -0.08358171,  0.03789996,  0.30726254,\n",
       "         0.43036148, -0.01450127, -0.06677455,  0.08285277, -0.39045352,\n",
       "         0.54733473,  0.38616902, -0.02528828, -0.5144331 ,  0.08510265,\n",
       "        -0.5619285 , -0.09659596, -0.5854421 ,  0.4861829 , -0.28077456,\n",
       "         0.50051165,  0.68841827, -0.19333541,  0.40876615, -0.47126207,\n",
       "        -0.17144978,  0.23657268,  0.31133902,  0.1539759 ,  0.03307463,\n",
       "        -0.3370806 ,  0.38883102, -0.1197249 ,  0.04331578,  0.14221421,\n",
       "         0.21461168, -0.26215738,  0.04623347,  0.32177952, -0.1847097 ,\n",
       "        -0.24613371,  0.15179884,  0.37237692, -0.5709548 , -0.19381328,\n",
       "        -0.17085499, -0.05514792, -0.40834248, -0.34278813, -0.21425577,\n",
       "         0.1706356 , -0.41202298, -0.49069518,  0.35575554, -0.4538239 ,\n",
       "         0.22266993, -0.23881543, -0.02709223, -0.13849205, -0.6263296 ,\n",
       "         0.38292748,  0.2903064 ,  0.5459711 , -0.09305452, -0.3852812 ,\n",
       "        -0.76118225, -0.31560832, -0.29131258,  0.42412034,  0.51788175,\n",
       "        -0.03715818, -0.22333734, -0.02076187, -0.54581755, -0.13806736,\n",
       "        -0.35065246, -0.21119265, -0.27070475,  0.6310196 , -0.19650996,\n",
       "        -0.14798328,  0.06370679, -0.57528967, -0.25910962, -0.23972717,\n",
       "        -0.12001691,  0.13065663, -0.00841097,  0.15329105, -0.37582952,\n",
       "        -0.50635326,  0.11027195, -0.19592229,  0.4753726 , -0.12711605,\n",
       "         0.34935284,  0.17454146, -0.05390105, -0.1588351 , -0.6823466 ,\n",
       "        -0.33499947, -0.08749086,  0.22971423, -0.28453457, -0.50807726,\n",
       "        -0.35014457, -0.06786691,  0.3498583 ,  0.2496289 ,  0.2652876 ,\n",
       "         0.11001333,  0.08754537, -0.03258563],\n",
       "       [ 0.01669691,  0.14359906,  0.0142749 , -0.21160668, -0.03463802,\n",
       "         0.13557932,  0.0165583 ,  0.48984727, -0.1448673 , -0.24934602,\n",
       "        -0.09011745, -0.5851312 , -0.16644996, -0.07709788,  0.11742145,\n",
       "        -0.00425917,  0.21709196,  0.09631383, -0.06250396, -0.21151134,\n",
       "        -0.10465373,  0.52875537,  0.05674674,  0.35013267,  0.00928611,\n",
       "         0.2343322 ,  0.61836416,  0.4058565 , -0.62615764,  0.26170105,\n",
       "         0.14004195,  0.31370127, -0.15245222, -0.07533008, -0.39280257,\n",
       "        -0.31745905,  0.10159367,  0.4154301 ,  0.42533985, -0.22354504,\n",
       "        -0.2198597 , -0.10625187, -0.5749694 , -0.14903727,  0.25762683,\n",
       "        -0.2038385 , -0.38352507, -0.04608621, -0.26025948, -0.18533114,\n",
       "        -0.07971048,  0.35700822,  0.23145494, -0.37759244,  0.45690605,\n",
       "         0.17657271, -0.25005642, -0.07521899, -0.16661142,  0.38457674,\n",
       "         0.42341816,  0.13051519, -0.36898157,  0.00150856,  0.03199779,\n",
       "         0.06768931,  0.09498048,  0.5276049 , -0.13305995,  0.5793672 ,\n",
       "         0.03355402,  0.09463806, -0.3473482 , -0.14070502,  0.19233358,\n",
       "         0.03145961, -0.02844499,  0.0100958 , -0.3802388 , -0.23123005,\n",
       "        -0.2885595 ,  0.26935884, -0.02085142, -0.08240578, -0.16914964,\n",
       "        -0.1707435 ,  0.12457094,  0.08063307, -0.5189013 ,  0.11476721,\n",
       "        -0.15040696,  0.49540797, -0.34004664,  0.28246915,  0.3992093 ,\n",
       "        -0.10619554, -0.35741752,  0.43635195, -0.12145238,  0.11812526,\n",
       "         0.00675569,  0.31595582,  0.11540398,  0.09790283,  1.0348456 ,\n",
       "        -0.23862532, -0.02332088,  0.18169239,  0.63259447, -0.11731526,\n",
       "        -0.29700077, -0.2619655 ,  0.5090569 ,  0.22535783,  0.09821416,\n",
       "         0.38604897,  0.16553888,  0.12199551, -0.17299429,  0.09980401,\n",
       "         0.341758  ,  0.557669  ,  0.22196376,  0.54530257,  0.15535529,\n",
       "        -0.45219985,  0.1800493 , -0.34457257],\n",
       "       [-0.19984365,  0.33964658, -0.08252827, -0.61632925, -0.21818624,\n",
       "        -0.0219513 , -0.45823216, -0.08518471, -0.02463947,  0.05679109,\n",
       "         0.2695523 , -0.2183225 , -0.16720667,  0.2661972 ,  0.33671072,\n",
       "         0.42268747, -0.07374252,  0.15809494,  0.20269364,  0.09349719,\n",
       "        -0.20330566,  0.34095186, -0.51501274,  0.08445224,  0.374511  ,\n",
       "         0.02837884,  0.30963916,  0.26668942, -0.03654594,  0.0091458 ,\n",
       "         0.12918851, -0.07775781,  0.29512206, -0.3529404 , -0.04220628,\n",
       "         0.04944822,  0.24357837,  0.02990191,  0.24565455, -0.05302144,\n",
       "        -0.32837763,  0.33625972, -0.18216231, -0.35185075,  0.04568613,\n",
       "        -0.76201653, -0.16005431, -0.2950102 , -0.20721285, -0.1775785 ,\n",
       "        -0.12828979,  0.06027649, -0.06723697,  0.00506297,  0.05083114,\n",
       "        -0.39226997, -0.5966248 , -0.3654513 ,  0.06337297, -0.20908388,\n",
       "         0.27223834, -0.39371532,  0.10867679,  0.23385343,  0.0085666 ,\n",
       "        -0.00383557, -0.11625117,  0.12226424, -0.28108627,  0.15787908,\n",
       "         0.08970779, -0.2723592 , -0.58264   ,  0.5046224 , -0.3386498 ,\n",
       "         0.11570627, -0.12866864, -0.43549713,  0.15649942, -0.18743399,\n",
       "        -0.08767006, -0.22566849, -0.13626458, -0.23168665, -0.25088575,\n",
       "         0.43491322,  0.29970816,  0.11240214,  0.2879056 , -0.12436815,\n",
       "        -0.4625749 , -0.11041743,  0.2670787 , -0.38839054, -0.02418661,\n",
       "         0.08051668,  0.23064578,  0.12312249, -0.00425038,  0.00404873,\n",
       "         0.15298674, -0.24333197, -0.22123003,  0.00164441,  0.3724388 ,\n",
       "        -0.27202982, -0.51506037,  0.14231053,  0.32377696,  0.07878546,\n",
       "        -0.05119281, -0.12271152,  0.02880896, -0.16933039,  0.2637446 ,\n",
       "        -0.11085674,  0.07680316, -0.04507446,  0.5539962 ,  0.42669946,\n",
       "         0.01024286,  0.10983708, -0.04192637, -0.1360909 , -0.03446208,\n",
       "         0.36621475, -0.20195702, -0.27629498]], dtype=float32)>"
      ]
     },
     "execution_count": 21,
     "metadata": {},
     "output_type": "execute_result"
    }
   ],
   "source": [
    "outputs = med_embed(tf.constant(['ilium', 'I have a fracture', 'aneurism']))\n",
    "outputs"
   ]
  },
  {
   "cell_type": "markdown",
   "metadata": {},
   "source": [
    "If you use a version of TensorFlow Hub smaller than `tensorflow-hub==0.7.0`, then you'll need to use the following wrapper to instanciate the `KerasLayer`:"
   ]
  },
  {
   "cell_type": "markdown",
   "metadata": {},
   "source": [
    "```python\n",
    "class Wrapper(tf.train.Checkpoint):\n",
    "    def __init__(self, spec):\n",
    "        super(Wrapper, self).__init__()\n",
    "        self.module = hub.load(spec)\n",
    "        self.variables = self.module.variables\n",
    "        self.trainable_variables = []\n",
    "    def __call__(self, x):\n",
    "        return self.module.signatures[\"default\"](x)[\"default\"]\n",
    "    \n",
    "med_embed = hub.KerasLayer(Wrapper(MODULE))\n",
    "```"
   ]
  },
  {
   "cell_type": "markdown",
   "metadata": {},
   "source": [
    "Copyright 2020 Google Inc. Licensed under the Apache License, Version 2.0 (the \"License\"); you may not use this file except in compliance with the License. You may obtain a copy of the License at http://www.apache.org/licenses/LICENSE-2.0 Unless required by applicable law or agreed to in writing, software distributed under the License is distributed on an \"AS IS\" BASIS, WITHOUT WARRANTIES OR CONDITIONS OF ANY KIND, either express or implied. See the License for the specific language governing permissions and limitations under the License"
   ]
  }
 ],
 "metadata": {
  "environment": {
   "name": "tf2-gpu.2-1.m65",
   "type": "gcloud",
   "uri": "gcr.io/deeplearning-platform-release/tf2-gpu.2-1:m65"
  },
  "kernelspec": {
   "display_name": "Python 3",
   "language": "python",
   "name": "python3"
  },
  "language_info": {
   "codemirror_mode": {
    "name": "ipython",
    "version": 3
   },
   "file_extension": ".py",
   "mimetype": "text/x-python",
   "name": "python",
   "nbconvert_exporter": "python",
   "pygments_lexer": "ipython3",
   "version": "3.7.10"
  }
 },
 "nbformat": 4,
 "nbformat_minor": 4
}
